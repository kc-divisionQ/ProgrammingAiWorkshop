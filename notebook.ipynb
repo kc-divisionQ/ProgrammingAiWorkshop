{
 "cells": [
  {
   "cell_type": "markdown",
   "id": "4436a126",
   "metadata": {},
   "source": [
    "# Workshop Programeren en AI\n",
    "\n",
    "## Setup\n",
    "### Imports"
   ]
  },
  {
   "cell_type": "code",
   "execution_count": null,
   "id": "0f9a13d7",
   "metadata": {},
   "outputs": [],
   "source": [
    "# General imports\n",
    "import os\n",
    "\n",
    "# Imports for data handeling\n",
    "import pandas as pd\n",
    "from skimpy import clean_columns\n",
    "import country_converter as coco\n",
    "\n",
    "# Imports for plotting\n",
    "import seaborn as sns\n",
    "import matplotlib.pyplot as plt\n",
    "\n",
    "# Settings for notebook\n",
    "pd.set_option('display.max_rows', 40)\n",
    "sns.set_theme()"
   ]
  },
  {
   "cell_type": "markdown",
   "id": "d97b07e0",
   "metadata": {},
   "source": [
    "### Retrieve data\n",
    "\n",
    "#### Our dataset has 31 columns:\n",
    "- **_Year_**: Year for which these measurements apply.\n",
    "- **_Area_**: Country where the data is from.\n",
    "- **_Savanna fires_**: Emissions from fires in savanna ecosystems.\n",
    "- **_Forest fires_**: Emissions from fires in forested areas.\n",
    "- **_Crop Residues_**: Emissions from burning or decomposing leftover plant material after crop harvesting.\n",
    "- **_Rice Cultivation_**: Emissions from methane released during rice cultivation.\n",
    "- **_Drained organic soils (CO2)_**: Emissions from carbon dioxide released when draining organic soils.\n",
    "- **_Pesticides Manufacturing_**: Emissions from the production of pesticides.\n",
    "- **_Food Transport_**: Emissions from transporting food products.\n",
    "- **_Forestland_**: Land covered by forests.\n",
    "- **_Net Forest conversion_**: Change in forest area due to deforestation and afforestation.\n",
    "- **_Food Household Consumption_**: Emissions from food consumption at the household level.\n",
    "- **_Food Retail_**: Emissions from the operation of retail establishments selling food.\n",
    "- **_On-farm Electricity Use_**: Electricity consumption on farms.\n",
    "- **_Food Packaging_**: Emissions from the production and disposal of food packaging materials.\n",
    "- **_Agrifood Systems Waste Disposal_**: Emissions from waste disposal in the agrifood system.\n",
    "- **_Food Processing_**: Emissions from processing food products.\n",
    "- **_Fertilizers Manufacturing_**: Emissions from the production of fertilizers.\n",
    "- **_IPPU_**: Emissions from industrial processes and product use.\n",
    "- **_Manure applied to Soils_**: Emissions from applying animal manure to agricultural soils.\n",
    "- **_Manure left on Pasture_**: Emissions from animal manure on pasture or grazing land.\n",
    "- **_Manure Management_**: Emissions from managing and treating animal manure.\n",
    "- **_Fires in organic soils_**: Emissions from fires in organic soils.\n",
    "- **_Fires in humid tropical forests_**: Emissions from fires in humid tropical forests.\n",
    "- **_On-farm energy use_**: Energy consumption on farms.\n",
    "- **_Rural population_**: Number of people living in rural areas.\n",
    "- **_Urban population_**: Number of people living in urban areas.\n",
    "- **_Total Population - Male_**: Total number of male individuals in the population.\n",
    "- **_Total Population - Female_**: Total number of female individuals in the population.\n",
    "- **_total_emission_**: Total greenhouse gas emissions from various sources.\n",
    "- **_Average Temperature °C_**: The average increasing of temperature (by year) in degrees Celsius.\n",
    "\n",
    "#### And we add 4 ourselves:\n",
    "- **_Continent_**: Continent where this area is located.\n",
    "- **_Subregion_**: (United Nations) subregion where this area is located.\n",
    "- **_Total Population_**: Sum of the Male and Female Population.\n",
    "- **_Emission per capita_**: Total emission divided by the total population of an area.\n",
    "\n",
    "\n",
    "All column names in the data frame are in [snakecase](https://en.wikipedia.org/wiki/Snake_case)"
   ]
  },
  {
   "cell_type": "code",
   "execution_count": null,
   "id": "d49bdc95",
   "metadata": {},
   "outputs": [],
   "source": [
    "path_to_data = os.path.join(os.getcwd(), \"Agrofood_co2_emission.csv\")\n",
    "assert os.path.exists(path_to_data), \"Path to data file was not found\"\n",
    "\n",
    "df = pd.read_csv(path_to_data)  # Read the data from file to a Dataframe\n",
    "df = clean_columns(df, replace={})"
   ]
  },
  {
   "cell_type": "code",
   "execution_count": null,
   "id": "b8e6fadf",
   "metadata": {},
   "outputs": [],
   "source": [
    "# Country names that give coco problems, we do some manual fixing / approximations\n",
    "manual_country_fixes = {\n",
    "    'Belgium-Luxembourg': 'Belgium',\n",
    "    'Channel Islands': 'United Kingdom',\n",
    "    'China, Taiwan Province of': 'Taiwan',\n",
    "    'Netherlands Antilles (former)': 'Netherlands',\n",
    "    'Pacific Islands Trust Territory': 'Micronesia',\n",
    "    'Serbia and Montenegro': 'Serbia', \n",
    "    'USSR': 'Russia',\n",
    "    'Yugoslav SFR': 'Serbia',  \n",
    "}\n",
    "\n",
    "# Add a \"Continent\" and \"Subregion\" column, This will make plotting a lot more managable than by country\n",
    "# As there are 236 distinct countries in the dataset\n",
    "cc = coco.CountryConverter()\n",
    "df['area'] = df['area'].replace(manual_country_fixes)\n",
    "df[\"continent\"] = cc.convert(names=df[\"area\"], to=\"continent\")\n",
    "df[\"subregion\"] = cc.convert(names=df[\"area\"], to=\"UNregion\")\n",
    "assert len(df[df['continent'] == 'not found']['area'].unique()) == 0  # Make sure everything is mapped\n",
    "assert len(df[df['subregion'] == 'not found']['area'].unique()) == 0  # Make sure everything is mapped\n",
    "\n",
    "# Add Total population, as a sum of male an female populations\n",
    "# with this new column create a column of emission per capita. This can be used as a normalized measure of emissions\n",
    "df[\"total_population\"] = df[\"total_population_male\"] + df[\"total_population_female\"]\n",
    "df[\"emission_per_capita\"] = df[\"total_emission\"] / df[\"total_population\"]"
   ]
  },
  {
   "cell_type": "markdown",
   "id": "4db47697",
   "metadata": {},
   "source": [
    "### Familiarize yourself with the data"
   ]
  },
  {
   "cell_type": "code",
   "execution_count": null,
   "id": "b5deaf21",
   "metadata": {},
   "outputs": [],
   "source": [
    "print(f\"Number of duplicate rows: {df.duplicated().sum()}\")\n",
    "display(df.head(5))"
   ]
  },
  {
   "cell_type": "code",
   "execution_count": null,
   "id": "4060512b",
   "metadata": {},
   "outputs": [],
   "source": [
    "# Dit code blok maakt een tabel met vier kolommen.\n",
    "dtypes = df.dtypes \n",
    "missing_counts = df.isnull().sum()\n",
    "non_null_counts = df.notnull().sum()\n",
    "unique_counts = df.nunique()\n",
    "summary = pd.DataFrame({\n",
    "    \"Data Type\": dtypes,\n",
    "    \"Unieke Waardes\": unique_counts,\n",
    "    \"# Null Waardes\": missing_counts,\n",
    "    \"# Non-null Waardes\": non_null_counts,\n",
    "}).sort_values(by='Unieke Waardes')\n",
    "\n",
    "# Display it\n",
    "display(summary)"
   ]
  },
  {
   "cell_type": "code",
   "execution_count": null,
   "id": "5d56915a",
   "metadata": {},
   "outputs": [],
   "source": [
    "display(df.describe())"
   ]
  },
  {
   "cell_type": "markdown",
   "id": "ac4b170e",
   "metadata": {},
   "source": [
    "\n",
    "!TODO: Outlier detection? Handeling Missing cells -> fill / remove"
   ]
  },
  {
   "cell_type": "code",
   "execution_count": null,
   "id": "f07642dd",
   "metadata": {},
   "outputs": [],
   "source": [
    "# Group by year and calculate mean and standard deviation\n",
    "grouped = df.groupby(\"year\")[[\"emission_per_capita\"]]\n",
    "mean_emission = grouped.mean()\n",
    "std_emission = grouped.std()\n",
    "\n",
    "# Plotting\n",
    "plt.figure(figsize=(12, 6))\n",
    "plt.plot(mean_emission.index, mean_emission[\"emission_per_capita\"], label=\"Average Emission\", color=\"blue\")\n",
    "plt.fill_between(\n",
    "    mean_emission.index,\n",
    "    mean_emission[\"emission_per_capita\"] - std_emission[\"emission_per_capita\"],\n",
    "    mean_emission[\"emission_per_capita\"] + std_emission[\"emission_per_capita\"],\n",
    "    color=\"blue\",\n",
    "    alpha=0.2,\n",
    "    label=\"Standard Deviation\"\n",
    ")\n",
    "\n",
    "plt.title(\"Average Total Emission per Year with Standard Deviation\")\n",
    "plt.xlabel(\"Year\")\n",
    "plt.ylabel(\"Total Emission\")\n",
    "plt.legend()\n",
    "plt.grid(True)\n",
    "plt.tight_layout()\n",
    "plt.show()\n"
   ]
  },
  {
   "cell_type": "code",
   "execution_count": null,
   "id": "0bbf48bb",
   "metadata": {},
   "outputs": [],
   "source": [
    "grouped = df.groupby(['year', 'subregion'])['emission_per_capita'].sum().unstack()\n",
    "\n",
    "plt.figure(figsize=(14, 8))\n",
    "grouped.plot(kind='line', figsize=(14, 8), logy=True)\n",
    "plt.title(\"Emission per Capita Over Years by Subregion\")\n",
    "plt.xlabel(\"Year\")\n",
    "plt.ylabel(\"Emission per Capita\")\n",
    "plt.legend(title=\"Subregion\", bbox_to_anchor=(1.05, 1), loc=\"upper left\")\n",
    "plt.grid(True)\n",
    "plt.show()\n"
   ]
  },
  {
   "cell_type": "code",
   "execution_count": null,
   "id": "aa41b38d",
   "metadata": {},
   "outputs": [],
   "source": [
    "grouped_year = df.groupby(\"year\")[[\"food_household_consumption\", \"food_transport\", \"food_packaging\"]].sum()\n",
    "grouped_year.plot(kind=\"line\", title=\"Food Household consumption over the years\", xlabel=\"year\", ylabel=\"CO2 emmissions (kt)\", figsize=(18, 6))\n",
    "plt.grid(True)\n",
    "plt.legend()\n",
    "plt.show()"
   ]
  },
  {
   "cell_type": "code",
   "execution_count": null,
   "id": "2644c4d7",
   "metadata": {},
   "outputs": [],
   "source": [
    "grouped_year = df.groupby(\"year\")[[\"food_household_consumption\", \"food_transport\", \"food_packaging\", \"total_emission\"]].sum()\n",
    "ax1 = grouped_year.plot(kind=\"line\", title=\"Food Household consumption over the years\",\n",
    "                        xlabel=\"Year\", ylabel=\"CO2 emissions (kt)\", figsize=(18, 6), logy=True)\n",
    "ax1.grid(True)\n",
    "ax1.legend(loc='upper left')\n",
    "\n",
    "ax2 = ax1.twinx()\n",
    "df_total = df.groupby(\"year\")[\"total_population\"].sum()  # Replace with your actual column\n",
    "df_total.plot(ax=ax2, color='black', linestyle='--', label='Total Population', linewidth=2, ylabel=\"Number of People\")\n",
    "ax2.legend(loc='upper right')\n",
    "\n",
    "plt.show()"
   ]
  },
  {
   "cell_type": "code",
   "execution_count": null,
   "id": "8dc92465",
   "metadata": {},
   "outputs": [],
   "source": [
    "grouped_year = df.groupby(\"year\")[[\"savanna_fires\", \"forest_fires\", \"fires_in_organic_soils\", \"fires_in_humid_tropical_forests\"]].sum()\n",
    "ax1 = grouped_year.plot(kind=\"line\", title=\"emisions from fires\",\n",
    "                        xlabel=\"Year\", ylabel=\"CO2 emissions (kt)\", figsize=(18, 6))\n",
    "ax1.grid(True)\n",
    "ax1.legend(loc='upper left')\n",
    "\n",
    "ax2 = ax1.twinx()\n",
    "df_total = df.groupby(\"year\")[\"average_temperature_c\"].sum()\n",
    "df_total.plot(ax=ax2, color='black', linestyle='--', label='Average Temperature', linewidth=2, ylabel=\"°C\")\n",
    "ax2.legend(loc='upper right')\n",
    "\n",
    "plt.show()"
   ]
  },
  {
   "cell_type": "code",
   "execution_count": null,
   "id": "cb23327c",
   "metadata": {},
   "outputs": [],
   "source": [
    "grouped_year = df.groupby(\"year\")[\n",
    "    [\n",
    "        \"crop_residues\",\n",
    "        \"rice_cultivation\",\n",
    "        \"drained_organic_soils_co_2\",\n",
    "        \"pesticides_manufacturing\",\n",
    "        \"fertilizers_manufacturing\",\n",
    "        \"net_forest_conversion\",\n",
    "        \"on_farm_electricity_use\",\n",
    "        \"agrifood_systems_waste_disposal\",\n",
    "        \"ippu\",\n",
    "        \"manure_applied_to_soils\",\n",
    "        \"manure_left_on_pasture\",\n",
    "        \"manure_management\",\n",
    "        \"on_farm_energy_use\"\n",
    "    ]\n",
    "].sum()\n",
    "ax1 = grouped_year.plot(\n",
    "    kind=\"line\",\n",
    "    title=\"Emissions during farming\",\n",
    "    xlabel=\"Year\",\n",
    "    ylabel=\"CO2 emissions (kt)\",\n",
    "    figsize=(18, 4),\n",
    "    logy=True\n",
    ")\n",
    "ax1.grid(True)\n",
    "ax1.legend()\n",
    "plt.show()"
   ]
  },
  {
   "cell_type": "code",
   "execution_count": null,
   "id": "ba419e57",
   "metadata": {},
   "outputs": [],
   "source": [
    "f = plt.figure(figsize=(19, 15))\n",
    "plt.matshow(df.drop(labels=[\"area\", \"continent\", \"subregion\"], axis=1).corr(), fignum=f.number)\n",
    "plt.xticks(\n",
    "    range(df.select_dtypes([\"number\"]).shape[1]),\n",
    "    df.select_dtypes([\"number\"]).columns,\n",
    "    fontsize=14,\n",
    "    rotation=90,\n",
    ")\n",
    "plt.yticks(\n",
    "    range(df.select_dtypes([\"number\"]).shape[1]),\n",
    "    df.select_dtypes([\"number\"]).columns,\n",
    "    fontsize=14,\n",
    ")\n",
    "cb = plt.colorbar()\n",
    "cb.ax.tick_params(labelsize=14)\n",
    "plt.title(\"Correlation Matrix\", fontsize=16)\n",
    "plt.show()"
   ]
  },
  {
   "cell_type": "code",
   "execution_count": null,
   "id": "d7d711c3",
   "metadata": {},
   "outputs": [],
   "source": [
    "# Compute the correlation matrix\n",
    "corr = df.drop(labels=[\"area\", \"continent\", \"subregion\"], axis=1).corr()\n",
    "\n",
    "# Set up the matplotlib figure\n",
    "plt.figure(figsize=(19, 15))\n",
    "\n",
    "# Create a heatmap with annotations (formatted as percentages)\n",
    "sns.heatmap(\n",
    "    corr,\n",
    "    annot=True,\n",
    "    fmt=\".0%\",  # Show values as whole percentages\n",
    "    cmap=\"coolwarm\",  # You can change this colormap if you like\n",
    "    cbar_kws={\"shrink\": 0.75},\n",
    "    annot_kws={\"size\": 12},\n",
    ")\n",
    "\n",
    "# Customize ticks and title\n",
    "plt.xticks(fontsize=14, rotation=90)\n",
    "plt.yticks(fontsize=14, rotation=0)\n",
    "plt.title(\"Correlation Matrix\", fontsize=16)\n",
    "\n",
    "plt.show()"
   ]
  },
  {
   "cell_type": "code",
   "execution_count": null,
   "id": "46f97288",
   "metadata": {},
   "outputs": [],
   "source": [
    "grouped_year = df.groupby(\"year\")[[\"rural_population\", \"urban_population\", \"total_population_male\", \"total_population_female\"]].sum()\n",
    "grouped_year.plot()\n",
    "plt.show()"
   ]
  },
  {
   "cell_type": "code",
   "execution_count": null,
   "id": "603a3886",
   "metadata": {},
   "outputs": [],
   "source": [
    "names = [\n",
    "        \"savanna_fires\",\n",
    "        \"forest_fires\",\n",
    "        \"fires_in_organic_soils\",\n",
    "        \"fires_in_humid_tropical_forests\",\n",
    "        \"crop_residues\",\n",
    "        \"rice_cultivation\",\n",
    "        \"drained_organic_soils_co_2\",\n",
    "        \"pesticides_manufacturing\",\n",
    "        \"fertilizers_manufacturing\",\n",
    "        \"net_forest_conversion\",\n",
    "        \"on_farm_electricity_use\",\n",
    "        \"agrifood_systems_waste_disposal\",\n",
    "        \"ippu\",\n",
    "        \"manure_applied_to_soils\",\n",
    "        \"manure_left_on_pasture\",\n",
    "        \"manure_management\",\n",
    "        \"on_farm_energy_use\",\n",
    "        \"food_transport\",\n",
    "        \"food_household_consumption\",\n",
    "        \"food_packaging\",\n",
    "        \"food_retail\",\n",
    "        \"food_processing\"\n",
    "    ]\n",
    "grouped_year = df.groupby(\"year\")[names].sum()\n",
    "df_total = df.groupby(\"year\")[\"total_emission\"].sum()\n",
    "\n",
    "# Sort columns by the value in the last row (last year)\n",
    "last_year_values = grouped_year.iloc[-1]\n",
    "sorted_columns = last_year_values.sort_values().index.tolist()\n",
    "grouped_year_sorted = grouped_year[sorted_columns]\n",
    "\n",
    "\n",
    "fig, ax = plt.subplots(figsize=(20, 10))\n",
    "ax.stackplot(grouped_year_sorted.index, grouped_year_sorted.T.values, labels=names)\n",
    "ax.plot(df_total.index, df_total, label=\"Total Emission\", color=\"red\")\n",
    "plt.legend()\n",
    "plt.show()"
   ]
  },
  {
   "cell_type": "code",
   "execution_count": null,
   "id": "00470b22",
   "metadata": {},
   "outputs": [],
   "source": [
    "grouped_year = (\n",
    "    df.groupby([\"year\", \"continent\"])[\"total_emission\"].sum().unstack(fill_value=0)\n",
    ")\n",
    "\n",
    "# Optional: Sort subregions by the value in the last year (for nicer stacking order)\n",
    "sorted_subregions = grouped_year.iloc[-1].sort_values().index.tolist()\n",
    "grouped_year_sorted = grouped_year[sorted_subregions]\n",
    "\n",
    "# Plot\n",
    "fig, ax = plt.subplots(figsize=(20, 10))\n",
    "ax.stackplot(\n",
    "    grouped_year_sorted.index,\n",
    "    grouped_year_sorted.T.values,\n",
    "    labels=grouped_year_sorted.columns,\n",
    ")\n",
    "\n",
    "plt.title(\"Total Emission Over Years by region\")\n",
    "plt.xlabel(\"Year\")\n",
    "plt.ylabel(\"Total Emission\")\n",
    "plt.legend(title=\"Subregion\", bbox_to_anchor=(1.05, 1), loc=\"upper left\")\n",
    "plt.show()"
   ]
  },
  {
   "cell_type": "code",
   "execution_count": null,
   "id": "14b1a993",
   "metadata": {},
   "outputs": [],
   "source": [
    "plt.subplots(figsize=(20, 6))\n",
    "sns.kdeplot(data=df, x=\"emission_per_capita\", hue=\"subregion\", fill=True, common_norm=False, alpha=0.5)\n",
    "plt.title(\"Distribution of Emission per Capita by Subregion\")\n",
    "plt.xscale(\"log\")"
   ]
  },
  {
   "cell_type": "code",
   "execution_count": null,
   "id": "6256b4eb",
   "metadata": {},
   "outputs": [],
   "source": [
    "pp = sns.pairplot(df, vars=[\"food_processing\", \"food_packaging\", \"food_transport\", \"food_retail\"], hue=\"continent\", diag_kind=\"kde\", dropna=True)\n",
    "\n",
    "\n",
    "for ax in pp.diag_axes:\n",
    "    y_max = ax.get_ylim()[1]\n",
    "    ax.set_ylim(0, y_max * 0.1)  # Adjust this factor as needed\n",
    "\n",
    "\n",
    "pp.figure.set_figheight(10)\n",
    "pp.figure.set_figwidth(20)"
   ]
  },
  {
   "cell_type": "code",
   "execution_count": null,
   "id": "caeda238",
   "metadata": {},
   "outputs": [],
   "source": [
    "pp = sns.pairplot(\n",
    "    df,\n",
    "    vars=[\n",
    "        \"fires_in_organic_soils\",\n",
    "        \"fires_in_humid_tropical_forests\",\n",
    "        \"savanna_fires\",\n",
    "        \"forest_fires\",\n",
    "        \"average_temperature_c\",\n",
    "    ],\n",
    "    hue=\"continent\",\n",
    "    diag_kind=\"auto\",\n",
    "    dropna=True,\n",
    ")\n",
    "\n",
    "\n",
    "for ax in pp.diag_axes:\n",
    "    y_max = ax.get_ylim()[1]\n",
    "    ax.set_ylim(0, y_max *0.2)  # Adjust this factor as needed\n",
    "\n",
    "\n",
    "pp.figure.set_figheight(10)\n",
    "pp.figure.set_figwidth(20)"
   ]
  },
  {
   "cell_type": "code",
   "execution_count": null,
   "id": "125f784c",
   "metadata": {},
   "outputs": [],
   "source": [
    "df_europe = df[df[\"contintent\"] == \"Europe\"]\n",
    "pp = sns.jointplot(data=df_europe[df_europe[\"year\"]>=2015], x=\"food_household_consumption\", y=\"agrifood_systems_waste_disposal\", hue=\"subregion\")"
   ]
  },
  {
   "cell_type": "code",
   "execution_count": null,
   "id": "4f0d8488",
   "metadata": {},
   "outputs": [],
   "source": [
    "pp = sns.jointplot(data=df[df[\"year\"]>=2015], x=\"average_temperature_c\", y=\"forest_fires\", hue=\"continent\")\n",
    "pp.ax_joint.set_yscale(\"log\")"
   ]
  },
  {
   "cell_type": "code",
   "execution_count": null,
   "id": "aca3f77c",
   "metadata": {},
   "outputs": [],
   "source": [
    "pp = sns.lmplot(data=df[df[\"year\"] == 2010], y=\"forest_fires\", x=\"average_temperature_c\", hue=\"continent\")\n",
    "pp.set(yscale=\"log\")\n",
    "pp.figure.set_figwidth(20)"
   ]
  }
 ],
 "metadata": {
  "kernelspec": {
   "display_name": "venv (3.12.4)",
   "language": "python",
   "name": "python3"
  },
  "language_info": {
   "codemirror_mode": {
    "name": "ipython",
    "version": 3
   },
   "file_extension": ".py",
   "mimetype": "text/x-python",
   "name": "python",
   "nbconvert_exporter": "python",
   "pygments_lexer": "ipython3",
   "version": "3.12.4"
  }
 },
 "nbformat": 4,
 "nbformat_minor": 5
}
