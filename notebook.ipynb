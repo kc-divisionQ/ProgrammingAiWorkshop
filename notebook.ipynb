{
 "cells": [
  {
   "cell_type": "markdown",
   "id": "4436a126",
   "metadata": {},
   "source": [
    "# Workshop Programeren en AI\n",
    "\n",
    "\\< put here info workshop >\n",
    "\n",
    "## Setup\n",
    "### Imports"
   ]
  },
  {
   "cell_type": "code",
   "execution_count": null,
   "id": "0f9a13d7",
   "metadata": {},
   "outputs": [],
   "source": [
    "import os\n",
    "import pandas as pd"
   ]
  },
  {
   "cell_type": "markdown",
   "id": "d97b07e0",
   "metadata": {},
   "source": [
    "### Retrieve data"
   ]
  },
  {
   "cell_type": "code",
   "execution_count": null,
   "id": "d49bdc95",
   "metadata": {},
   "outputs": [],
   "source": [
    "path_to_data = os.path.join(os.getcwd(), \"Agrofood_co2_emission.csv\")\n",
    "assert os.path.exists(path_to_data)\n",
    "\n",
    "df = pd.read_csv(path_to_data)"
   ]
  },
  {
   "cell_type": "markdown",
   "id": "4db47697",
   "metadata": {},
   "source": [
    "### Familiarize yourself with the data"
   ]
  },
  {
   "cell_type": "code",
   "execution_count": 4,
   "id": "4060512b",
   "metadata": {},
   "outputs": [
    {
     "name": "stdout",
     "output_type": "stream",
     "text": [
      "<class 'pandas.core.frame.DataFrame'>\n",
      "RangeIndex: 6965 entries, 0 to 6964\n",
      "Data columns (total 31 columns):\n",
      " #   Column                           Non-Null Count  Dtype  \n",
      "---  ------                           --------------  -----  \n",
      " 0   Area                             6965 non-null   object \n",
      " 1   Year                             6965 non-null   int64  \n",
      " 2   Savanna fires                    6934 non-null   float64\n",
      " 3   Forest fires                     6872 non-null   float64\n",
      " 4   Crop Residues                    5576 non-null   float64\n",
      " 5   Rice Cultivation                 6965 non-null   float64\n",
      " 6   Drained organic soils (CO2)      6965 non-null   float64\n",
      " 7   Pesticides Manufacturing         6965 non-null   float64\n",
      " 8   Food Transport                   6965 non-null   float64\n",
      " 9   Forestland                       6472 non-null   float64\n",
      " 10  Net Forest conversion            6472 non-null   float64\n",
      " 11  Food Household Consumption       6492 non-null   float64\n",
      " 12  Food Retail                      6965 non-null   float64\n",
      " 13  On-farm Electricity Use          6965 non-null   float64\n",
      " 14  Food Packaging                   6965 non-null   float64\n",
      " 15  Agrifood Systems Waste Disposal  6965 non-null   float64\n",
      " 16  Food Processing                  6965 non-null   float64\n",
      " 17  Fertilizers Manufacturing        6965 non-null   float64\n",
      " 18  IPPU                             6222 non-null   float64\n",
      " 19  Manure applied to Soils          6037 non-null   float64\n",
      " 20  Manure left on Pasture           6965 non-null   float64\n",
      " 21  Manure Management                6037 non-null   float64\n",
      " 22  Fires in organic soils           6965 non-null   float64\n",
      " 23  Fires in humid tropical forests  6810 non-null   float64\n",
      " 24  On-farm energy use               6009 non-null   float64\n",
      " 25  Rural population                 6965 non-null   float64\n",
      " 26  Urban population                 6965 non-null   float64\n",
      " 27  Total Population - Male          6965 non-null   float64\n",
      " 28  Total Population - Female        6965 non-null   float64\n",
      " 29  total_emission                   6965 non-null   float64\n",
      " 30  Average Temperature °C           6965 non-null   float64\n",
      "dtypes: float64(29), int64(1), object(1)\n",
      "memory usage: 1.6+ MB\n"
     ]
    },
    {
     "data": {
      "text/plain": [
       "None"
      ]
     },
     "metadata": {},
     "output_type": "display_data"
    }
   ],
   "source": [
    "display(df.info())"
   ]
  },
  {
   "cell_type": "code",
   "execution_count": 5,
   "id": "b5deaf21",
   "metadata": {},
   "outputs": [
    {
     "data": {
      "application/vnd.microsoft.datawrangler.viewer.v0+json": {
       "columns": [
        {
         "name": "index",
         "rawType": "int64",
         "type": "integer"
        },
        {
         "name": "Area",
         "rawType": "object",
         "type": "string"
        },
        {
         "name": "Year",
         "rawType": "int64",
         "type": "integer"
        },
        {
         "name": "Savanna fires",
         "rawType": "float64",
         "type": "float"
        },
        {
         "name": "Forest fires",
         "rawType": "float64",
         "type": "float"
        },
        {
         "name": "Crop Residues",
         "rawType": "float64",
         "type": "float"
        },
        {
         "name": "Rice Cultivation",
         "rawType": "float64",
         "type": "float"
        },
        {
         "name": "Drained organic soils (CO2)",
         "rawType": "float64",
         "type": "float"
        },
        {
         "name": "Pesticides Manufacturing",
         "rawType": "float64",
         "type": "float"
        },
        {
         "name": "Food Transport",
         "rawType": "float64",
         "type": "float"
        },
        {
         "name": "Forestland",
         "rawType": "float64",
         "type": "float"
        },
        {
         "name": "Net Forest conversion",
         "rawType": "float64",
         "type": "float"
        },
        {
         "name": "Food Household Consumption",
         "rawType": "float64",
         "type": "float"
        },
        {
         "name": "Food Retail",
         "rawType": "float64",
         "type": "float"
        },
        {
         "name": "On-farm Electricity Use",
         "rawType": "float64",
         "type": "float"
        },
        {
         "name": "Food Packaging",
         "rawType": "float64",
         "type": "float"
        },
        {
         "name": "Agrifood Systems Waste Disposal",
         "rawType": "float64",
         "type": "float"
        },
        {
         "name": "Food Processing",
         "rawType": "float64",
         "type": "float"
        },
        {
         "name": "Fertilizers Manufacturing",
         "rawType": "float64",
         "type": "float"
        },
        {
         "name": "IPPU",
         "rawType": "float64",
         "type": "float"
        },
        {
         "name": "Manure applied to Soils",
         "rawType": "float64",
         "type": "float"
        },
        {
         "name": "Manure left on Pasture",
         "rawType": "float64",
         "type": "float"
        },
        {
         "name": "Manure Management",
         "rawType": "float64",
         "type": "float"
        },
        {
         "name": "Fires in organic soils",
         "rawType": "float64",
         "type": "float"
        },
        {
         "name": "Fires in humid tropical forests",
         "rawType": "float64",
         "type": "float"
        },
        {
         "name": "On-farm energy use",
         "rawType": "float64",
         "type": "float"
        },
        {
         "name": "Rural population",
         "rawType": "float64",
         "type": "float"
        },
        {
         "name": "Urban population",
         "rawType": "float64",
         "type": "float"
        },
        {
         "name": "Total Population - Male",
         "rawType": "float64",
         "type": "float"
        },
        {
         "name": "Total Population - Female",
         "rawType": "float64",
         "type": "float"
        },
        {
         "name": "total_emission",
         "rawType": "float64",
         "type": "float"
        },
        {
         "name": "Average Temperature °C",
         "rawType": "float64",
         "type": "float"
        }
       ],
       "ref": "79a1ccfc-751b-4931-a7b6-b33f88625918",
       "rows": [
        [
         "0",
         "Afghanistan",
         "1990",
         "14.7237",
         "0.0557",
         "205.6077",
         "686.0",
         "0.0",
         "11.807482956246297",
         "63.1152",
         "-2388.803",
         "0.0",
         "79.0851",
         "109.6446",
         "14.2666",
         "67.63136607385836",
         "691.7888",
         "252.2141899664796",
         "11.997",
         "209.9778",
         "260.1431",
         "1590.5319",
         "319.1763",
         "0.0",
         "0.0",
         null,
         "9655167.0",
         "2593947.0",
         "5348387.0",
         "5346409.0",
         "2198.963538996584",
         "0.5361666666666667"
        ],
        [
         "1",
         "Afghanistan",
         "1991",
         "14.7237",
         "0.0557",
         "209.4971",
         "678.16",
         "0.0",
         "11.712073091310696",
         "61.2125",
         "-2388.803",
         "0.0",
         "80.4885",
         "116.6789",
         "11.4182",
         "67.63136607385836",
         "710.8212",
         "252.2141899664796",
         "12.8539",
         "217.0388",
         "268.6292",
         "1657.2364",
         "342.3079",
         "0.0",
         "0.0",
         null,
         "10230490.0",
         "2763167.0",
         "5372959.0",
         "5372208.0",
         "2323.8766291316488",
         "0.0206666666666666"
        ],
        [
         "2",
         "Afghanistan",
         "1992",
         "14.7237",
         "0.0557",
         "196.5341",
         "686.0",
         "0.0",
         "11.712073091310696",
         "53.317",
         "-2388.803",
         "0.0",
         "80.7692",
         "126.1721",
         "9.2752",
         "67.63136607385836",
         "743.6751",
         "252.2141899664796",
         "13.4929",
         "222.1156",
         "264.7898",
         "1653.5068",
         "349.1224",
         "0.0",
         "0.0",
         null,
         "10995568.0",
         "2985663.0",
         "6028494.0",
         "6028939.0",
         "2356.3042291316488",
         "-0.2595833333333333"
        ],
        [
         "3",
         "Afghanistan",
         "1993",
         "14.7237",
         "0.0557",
         "230.8175",
         "686.0",
         "0.0",
         "11.712073091310696",
         "54.3617",
         "-2388.803",
         "0.0",
         "85.0678",
         "81.4607",
         "9.0635",
         "67.63136607385836",
         "791.9246",
         "252.2141899664796",
         "14.0559",
         "201.2057",
         "261.7221",
         "1642.9623",
         "352.2947",
         "0.0",
         "0.0",
         null,
         "11858090.0",
         "3237009.0",
         "7003641.0",
         "7000119.0",
         "2368.470529131649",
         "0.1019166666666666"
        ],
        [
         "4",
         "Afghanistan",
         "1994",
         "14.7237",
         "0.0557",
         "242.0494",
         "705.6",
         "0.0",
         "11.712073091310696",
         "53.9874",
         "-2388.803",
         "0.0",
         "88.8058",
         "90.4008",
         "8.3962",
         "67.63136607385836",
         "831.9181",
         "252.2141899664796",
         "15.1269",
         "182.2905",
         "267.6219",
         "1689.3593",
         "367.6784",
         "0.0",
         "0.0",
         null,
         "12690115.0",
         "3482604.0",
         "7733458.0",
         "7722096.0",
         "2500.768729131649",
         "0.3722499999999999"
        ]
       ],
       "shape": {
        "columns": 31,
        "rows": 5
       }
      },
      "text/html": [
       "<div>\n",
       "<style scoped>\n",
       "    .dataframe tbody tr th:only-of-type {\n",
       "        vertical-align: middle;\n",
       "    }\n",
       "\n",
       "    .dataframe tbody tr th {\n",
       "        vertical-align: top;\n",
       "    }\n",
       "\n",
       "    .dataframe thead th {\n",
       "        text-align: right;\n",
       "    }\n",
       "</style>\n",
       "<table border=\"1\" class=\"dataframe\">\n",
       "  <thead>\n",
       "    <tr style=\"text-align: right;\">\n",
       "      <th></th>\n",
       "      <th>Area</th>\n",
       "      <th>Year</th>\n",
       "      <th>Savanna fires</th>\n",
       "      <th>Forest fires</th>\n",
       "      <th>Crop Residues</th>\n",
       "      <th>Rice Cultivation</th>\n",
       "      <th>Drained organic soils (CO2)</th>\n",
       "      <th>Pesticides Manufacturing</th>\n",
       "      <th>Food Transport</th>\n",
       "      <th>Forestland</th>\n",
       "      <th>...</th>\n",
       "      <th>Manure Management</th>\n",
       "      <th>Fires in organic soils</th>\n",
       "      <th>Fires in humid tropical forests</th>\n",
       "      <th>On-farm energy use</th>\n",
       "      <th>Rural population</th>\n",
       "      <th>Urban population</th>\n",
       "      <th>Total Population - Male</th>\n",
       "      <th>Total Population - Female</th>\n",
       "      <th>total_emission</th>\n",
       "      <th>Average Temperature °C</th>\n",
       "    </tr>\n",
       "  </thead>\n",
       "  <tbody>\n",
       "    <tr>\n",
       "      <th>0</th>\n",
       "      <td>Afghanistan</td>\n",
       "      <td>1990</td>\n",
       "      <td>14.7237</td>\n",
       "      <td>0.0557</td>\n",
       "      <td>205.6077</td>\n",
       "      <td>686.00</td>\n",
       "      <td>0.0</td>\n",
       "      <td>11.807483</td>\n",
       "      <td>63.1152</td>\n",
       "      <td>-2388.803</td>\n",
       "      <td>...</td>\n",
       "      <td>319.1763</td>\n",
       "      <td>0.0</td>\n",
       "      <td>0.0</td>\n",
       "      <td>NaN</td>\n",
       "      <td>9655167.0</td>\n",
       "      <td>2593947.0</td>\n",
       "      <td>5348387.0</td>\n",
       "      <td>5346409.0</td>\n",
       "      <td>2198.963539</td>\n",
       "      <td>0.536167</td>\n",
       "    </tr>\n",
       "    <tr>\n",
       "      <th>1</th>\n",
       "      <td>Afghanistan</td>\n",
       "      <td>1991</td>\n",
       "      <td>14.7237</td>\n",
       "      <td>0.0557</td>\n",
       "      <td>209.4971</td>\n",
       "      <td>678.16</td>\n",
       "      <td>0.0</td>\n",
       "      <td>11.712073</td>\n",
       "      <td>61.2125</td>\n",
       "      <td>-2388.803</td>\n",
       "      <td>...</td>\n",
       "      <td>342.3079</td>\n",
       "      <td>0.0</td>\n",
       "      <td>0.0</td>\n",
       "      <td>NaN</td>\n",
       "      <td>10230490.0</td>\n",
       "      <td>2763167.0</td>\n",
       "      <td>5372959.0</td>\n",
       "      <td>5372208.0</td>\n",
       "      <td>2323.876629</td>\n",
       "      <td>0.020667</td>\n",
       "    </tr>\n",
       "    <tr>\n",
       "      <th>2</th>\n",
       "      <td>Afghanistan</td>\n",
       "      <td>1992</td>\n",
       "      <td>14.7237</td>\n",
       "      <td>0.0557</td>\n",
       "      <td>196.5341</td>\n",
       "      <td>686.00</td>\n",
       "      <td>0.0</td>\n",
       "      <td>11.712073</td>\n",
       "      <td>53.3170</td>\n",
       "      <td>-2388.803</td>\n",
       "      <td>...</td>\n",
       "      <td>349.1224</td>\n",
       "      <td>0.0</td>\n",
       "      <td>0.0</td>\n",
       "      <td>NaN</td>\n",
       "      <td>10995568.0</td>\n",
       "      <td>2985663.0</td>\n",
       "      <td>6028494.0</td>\n",
       "      <td>6028939.0</td>\n",
       "      <td>2356.304229</td>\n",
       "      <td>-0.259583</td>\n",
       "    </tr>\n",
       "    <tr>\n",
       "      <th>3</th>\n",
       "      <td>Afghanistan</td>\n",
       "      <td>1993</td>\n",
       "      <td>14.7237</td>\n",
       "      <td>0.0557</td>\n",
       "      <td>230.8175</td>\n",
       "      <td>686.00</td>\n",
       "      <td>0.0</td>\n",
       "      <td>11.712073</td>\n",
       "      <td>54.3617</td>\n",
       "      <td>-2388.803</td>\n",
       "      <td>...</td>\n",
       "      <td>352.2947</td>\n",
       "      <td>0.0</td>\n",
       "      <td>0.0</td>\n",
       "      <td>NaN</td>\n",
       "      <td>11858090.0</td>\n",
       "      <td>3237009.0</td>\n",
       "      <td>7003641.0</td>\n",
       "      <td>7000119.0</td>\n",
       "      <td>2368.470529</td>\n",
       "      <td>0.101917</td>\n",
       "    </tr>\n",
       "    <tr>\n",
       "      <th>4</th>\n",
       "      <td>Afghanistan</td>\n",
       "      <td>1994</td>\n",
       "      <td>14.7237</td>\n",
       "      <td>0.0557</td>\n",
       "      <td>242.0494</td>\n",
       "      <td>705.60</td>\n",
       "      <td>0.0</td>\n",
       "      <td>11.712073</td>\n",
       "      <td>53.9874</td>\n",
       "      <td>-2388.803</td>\n",
       "      <td>...</td>\n",
       "      <td>367.6784</td>\n",
       "      <td>0.0</td>\n",
       "      <td>0.0</td>\n",
       "      <td>NaN</td>\n",
       "      <td>12690115.0</td>\n",
       "      <td>3482604.0</td>\n",
       "      <td>7733458.0</td>\n",
       "      <td>7722096.0</td>\n",
       "      <td>2500.768729</td>\n",
       "      <td>0.372250</td>\n",
       "    </tr>\n",
       "  </tbody>\n",
       "</table>\n",
       "<p>5 rows × 31 columns</p>\n",
       "</div>"
      ],
      "text/plain": [
       "          Area  Year  Savanna fires  Forest fires  Crop Residues  \\\n",
       "0  Afghanistan  1990        14.7237        0.0557       205.6077   \n",
       "1  Afghanistan  1991        14.7237        0.0557       209.4971   \n",
       "2  Afghanistan  1992        14.7237        0.0557       196.5341   \n",
       "3  Afghanistan  1993        14.7237        0.0557       230.8175   \n",
       "4  Afghanistan  1994        14.7237        0.0557       242.0494   \n",
       "\n",
       "   Rice Cultivation  Drained organic soils (CO2)  Pesticides Manufacturing  \\\n",
       "0            686.00                          0.0                 11.807483   \n",
       "1            678.16                          0.0                 11.712073   \n",
       "2            686.00                          0.0                 11.712073   \n",
       "3            686.00                          0.0                 11.712073   \n",
       "4            705.60                          0.0                 11.712073   \n",
       "\n",
       "   Food Transport  Forestland  ...  Manure Management  Fires in organic soils  \\\n",
       "0         63.1152   -2388.803  ...           319.1763                     0.0   \n",
       "1         61.2125   -2388.803  ...           342.3079                     0.0   \n",
       "2         53.3170   -2388.803  ...           349.1224                     0.0   \n",
       "3         54.3617   -2388.803  ...           352.2947                     0.0   \n",
       "4         53.9874   -2388.803  ...           367.6784                     0.0   \n",
       "\n",
       "   Fires in humid tropical forests  On-farm energy use  Rural population  \\\n",
       "0                              0.0                 NaN         9655167.0   \n",
       "1                              0.0                 NaN        10230490.0   \n",
       "2                              0.0                 NaN        10995568.0   \n",
       "3                              0.0                 NaN        11858090.0   \n",
       "4                              0.0                 NaN        12690115.0   \n",
       "\n",
       "   Urban population  Total Population - Male  Total Population - Female  \\\n",
       "0         2593947.0                5348387.0                  5346409.0   \n",
       "1         2763167.0                5372959.0                  5372208.0   \n",
       "2         2985663.0                6028494.0                  6028939.0   \n",
       "3         3237009.0                7003641.0                  7000119.0   \n",
       "4         3482604.0                7733458.0                  7722096.0   \n",
       "\n",
       "   total_emission  Average Temperature °C  \n",
       "0     2198.963539                0.536167  \n",
       "1     2323.876629                0.020667  \n",
       "2     2356.304229               -0.259583  \n",
       "3     2368.470529                0.101917  \n",
       "4     2500.768729                0.372250  \n",
       "\n",
       "[5 rows x 31 columns]"
      ]
     },
     "metadata": {},
     "output_type": "display_data"
    }
   ],
   "source": [
    "display(df.head(5))"
   ]
  }
 ],
 "metadata": {
  "kernelspec": {
   "display_name": "venv (3.12.4)",
   "language": "python",
   "name": "python3"
  },
  "language_info": {
   "codemirror_mode": {
    "name": "ipython",
    "version": 3
   },
   "file_extension": ".py",
   "mimetype": "text/x-python",
   "name": "python",
   "nbconvert_exporter": "python",
   "pygments_lexer": "ipython3",
   "version": "3.12.4"
  }
 },
 "nbformat": 4,
 "nbformat_minor": 5
}
