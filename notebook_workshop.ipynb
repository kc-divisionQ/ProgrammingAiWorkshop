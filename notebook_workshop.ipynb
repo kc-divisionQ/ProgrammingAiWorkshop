{
 "cells": [
  {
   "cell_type": "markdown",
   "id": "bfdf89fa",
   "metadata": {},
   "source": [
    "# Workshop Programeren en AI\n",
    "\n",
    "\n",
    "\n",
    "## Setup\n",
    "### Imports"
   ]
  },
  {
   "cell_type": "code",
   "execution_count": null,
   "id": "30a28dab",
   "metadata": {},
   "outputs": [],
   "source": [
    "# General imports\n",
    "import os\n",
    "\n",
    "# Imports for data handeling\n",
    "import pandas as pd\n",
    "from skimpy import clean_columns\n",
    "import country_converter as coco\n",
    "\n",
    "# Imports for plotting\n",
    "import seaborn as sns\n",
    "import matplotlib.pyplot as plt\n",
    "\n",
    "# Settings for notebook\n",
    "pd.set_option('display.max_rows', 40)\n",
    "sns.set_style()"
   ]
  },
  {
   "cell_type": "markdown",
   "id": "16ef36b7",
   "metadata": {},
   "source": [
    "### Data ophalen\n",
    "\n",
    "#### Onze dataset bevat 31 kolommen:\n",
    "- **_year_**: Jaar waarop deze metingen van toepassing zijn.\n",
    "- **_area_**: Land waar de data vandaan komt.\n",
    "- **_savanna_fires_**: Emissies van branden in savanne-ecosystemen.\n",
    "- **_forest_fires_**: Emissies van branden in beboste gebieden.\n",
    "- **_fires_in_organic_soils_**: Emissies van branden in organische bodems.\n",
    "- **_fires_in_humid_tropical_forests_**: Emissies van branden in vochtige tropische bossen.\n",
    "- **_forestland_**: Land bedekt met bossen.\n",
    "- **_net_forest_conversion_**: Verandering in bosoppervlakte door ontbossing en herbebossing.\n",
    "- **_crop_residues_**: Emissies door het verbranden of afbreken van gewasresten na de oogst.\n",
    "- **_rice_cultivation_**: Emissies van methaan die vrijkomen tijdens de rijstteelt.\n",
    "- **_drained_organic_soils_(co2)_**: Emissies van koolstofdioxide die vrijkomen bij het ontwateren van organische bodems.\n",
    "- **_agrifood_systems_waste_disposal_**: Emissies van afvalverwerking binnen het agrovoedselsysteem.\n",
    "- **_ippu_**: Emissies van industriële processen en productgebruik (IPPU).\n",
    "- **_food_transport_**: Emissies van het transporteren van voedselproducten.\n",
    "- **_food_processing_**: Emissies van het verwerken van voedselproducten.\n",
    "- **_food_packaging_**: Emissies van de productie en verwijdering van voedselverpakkingsmaterialen.\n",
    "- **_food_retail_**: Emissies van de exploitatie van winkels die voedsel verkopen.\n",
    "- **_food_household_consumption_**: Emissies van voedselconsumptie op huishoudelijk niveau.\n",
    "- **_pesticides_manufacturing_**: Emissies afkomstig van de productie van pesticiden.\n",
    "- **_fertilizers_manufacturing_**: Emissies van de productie van meststoffen.\n",
    "- **_manure_applied_to_soils_**: Emissies van het aanbrengen van dierlijke mest op landbouwgronden.\n",
    "- **_manure_left_on_pasture_**: Emissies van dierlijke mest op weide- of grasland.\n",
    "- **_manure_management_**: Emissies van het beheren en behandelen van dierlijke mest.\n",
    "- **_on_farm_electricity_use_**: Elektriciteitsverbruik op boerderijen.\n",
    "- **_on_farm_energy_use_**: Energieverbruik op boerderijen.\n",
    "- **_rural_population_**: Aantal mensen dat in landelijke gebieden woont.\n",
    "- **_urban_population_**: Aantal mensen dat in stedelijke gebieden woont.\n",
    "- **_total_population_-_male_**: Totaal aantal mannelijke individuen in de bevolking.\n",
    "- **_total_population_-_female_**: Totaal aantal vrouwelijke individuen in de bevolking.\n",
    "- **_total_emission_**: Totale broeikasgasemissies uit verschillende bronnen.\n",
    "- **_average_temperature_°c_**: De gemiddelde temperatuurstijging (per jaar) in graden Celsius.\n",
    "\n",
    "#### En we voegen er zelf 4 toe:\n",
    "- **_continent_**: Continent waar dit gebied zich bevindt.\n",
    "- **_subregion_**: (Verenigde Naties) subregio waar dit gebied zich bevindt.\n",
    "- **_total_population_**: Som van de mannelijke en vrouwelijke bevolking.\n",
    "- **_emission_per_capita_**: Totale emissie gedeeld door de totale bevolking van een gebied.\n",
    "\n",
    "Alle kolomnamen in de dataset zijn geschreven in [snake_case](https://nl.wikipedia.org/wiki/Snake_case).\n",
    "\n",
    "**Opdracht 1**: Lees het csv bestand uit naar een tabel (pd.DataFrame), en sla dit tabel op in de `df` variabele. "
   ]
  },
  {
   "cell_type": "code",
   "execution_count": null,
   "id": "aba854c1",
   "metadata": {},
   "outputs": [],
   "source": [
    "pad_naar_data_file = os.path.join(os.getcwd(), \"Agrofood_co2_emission.csv\")\n",
    "assert os.path.exists(pad_naar_data_file), \"Het pad naar de data file bestaat niet\"\n",
    "\n",
    "df = pd.read_csv(pad_naar_data_file)  # Read the data from file to a Dataframe\n",
    "df = clean_columns(df, replace={})"
   ]
  },
  {
   "cell_type": "code",
   "execution_count": null,
   "id": "c4dd2469",
   "metadata": {},
   "outputs": [],
   "source": [
    "# Maak je geen zorgen over dit code blok.\n",
    "# Hier voegen we 4 kolommen toe aan de DataFrame, maar omdat sommige oude landen\n",
    "# benamingen niet door alles ondersteunt worden moeten we deze eerst corrigeren.\n",
    "manual_country_fixes = {\n",
    "    'Belgium-Luxembourg': 'Belgium',\n",
    "    'Channel Islands': 'United Kingdom',\n",
    "    'China, Taiwan Province of': 'Taiwan',\n",
    "    'Netherlands Antilles (former)': 'Netherlands',\n",
    "    'Pacific Islands Trust Territory': 'Micronesia',\n",
    "    'Serbia and Montenegro': 'Serbia', \n",
    "    'USSR': 'Russia',\n",
    "    'Yugoslav SFR': 'Serbia',  \n",
    "}\n",
    "\n",
    "# Voeg de \"continent\" en \"subregion\" kolom toe. Dit doen we om de 236 landen te categoriseren.\n",
    "cc = coco.CountryConverter()\n",
    "df['area'] = df['area'].replace(manual_country_fixes)\n",
    "df[\"continent\"] = cc.convert(names=df[\"area\"], to=\"continent\")\n",
    "df[\"subregion\"] = cc.convert(names=df[\"area\"], to=\"UNregion\")\n",
    "assert len(df[df['continent'] == 'not found']['area'].unique()) == 0 \n",
    "assert len(df[df['subregion'] == 'not found']['area'].unique()) == 0 \n",
    "\n",
    "# Voeg een \"total_population\" kolom toe als een som van mannelijke en vrouwelijke populaties.\n",
    "# Daarna voegen we een kolom toe \"emission_per_capita\" waar we de totale emissies delen door de totale populatie van een land.\n",
    "df[\"total_population\"] = df[\"total_population_male\"] + df[\"total_population_female\"]\n",
    "df[\"emission_per_capita\"] = df[\"total_emission\"] / df[\"total_population\"]"
   ]
  },
  {
   "cell_type": "markdown",
   "id": "02516b65",
   "metadata": {},
   "source": [
    "## Bekend worden met de data\n",
    "\n",
    "Voordat je analyse doet op je data is het belangrijk dat je bekend bent met je data. Zijn er kolommen waar veel waardes missen? Zijn er kolommen die overbodig zijn omdat ze altijd het zelfde zijn? Wat is de correlatie tussen verschillende kolommen?\n",
    "\n",
    "**Opdracht 2**: print de eerste 5 rijen van de tabel."
   ]
  },
  {
   "cell_type": "code",
   "execution_count": null,
   "id": "17c64a06",
   "metadata": {},
   "outputs": [],
   "source": [
    "display(df.head(5))"
   ]
  },
  {
   "cell_type": "code",
   "execution_count": null,
   "id": "66c9b84e",
   "metadata": {},
   "outputs": [],
   "source": [
    "# Dit code blok maakt een tabel met vier kolommen: \"Data Type\", \"Unieke Waardes\", \"Null Waardes\" en \"Non-null Waardes\".\n",
    "#\n",
    "# - Data Type:          De type van de data in deze kolom (integer, string, etc.)\n",
    "# - Unieke Waardes:     Hoeveel verschillende waardes er in totaal vorkomen in deze kolom\n",
    "# - Null Waardes:       Hoevaak deze kolom is leeg gelaten in een rij\n",
    "# - Non-null Waardes:   Hoevaak deze kolom wel is ingevuld in een rij\n",
    "\n",
    "dtypes = df.dtypes \n",
    "missing_counts = df.isnull().sum()\n",
    "non_null_counts = df.notnull().sum()\n",
    "unique_counts = df.nunique()\n",
    "summary = pd.DataFrame({\n",
    "    \"Data Type\": dtypes,\n",
    "    \"Unieke Waardes\": unique_counts,\n",
    "    \"# Null Waardes\": missing_counts,\n",
    "    \"# Non-null Waardes\": non_null_counts,\n",
    "}).sort_values(by='# Null Waardes', ascending=False)\n",
    "display(summary)"
   ]
  },
  {
   "cell_type": "markdown",
   "id": "48269d9f",
   "metadata": {},
   "source": [
    "**Opdracht 3**: Bereken voor elke kolom statestieken over de verdeling van je data. (Denk aan de mean en standaarddeviatie)\n",
    "\n",
    "_Hint_: Als iets te veel werk lijkt voor iets simpels, is er waarschijnlijk een functie voor in pandas."
   ]
  },
  {
   "cell_type": "code",
   "execution_count": null,
   "id": "56a43714",
   "metadata": {},
   "outputs": [],
   "source": [
    "display(df.describe())"
   ]
  },
  {
   "cell_type": "code",
   "execution_count": null,
   "id": "29e66bd6",
   "metadata": {},
   "outputs": [],
   "source": [
    "# In dit code blok doen we de correlatie matrix plotten.\n",
    "# In ons geval zijn correlaties in de tekstvelden niet intressant, maar als je een categorie zou hebben\n",
    "# (bijvoorbeeld een multiple choice vraag) dan zou je deze eerst moeten encoden naar nummers. Dit kan je ook automatisch laten doen.\n",
    "\n",
    "figuur = plt.figure(figsize=(19, 15))  # Zet de groote van het figuur\n",
    "\n",
    "# Maak de correlation matrix, en zet de kolom namen langs de randen\n",
    "plt.matshow(\n",
    "    df.drop(labels=[\"area\", \"continent\", \"subregion\"], axis=1).corr(),\n",
    "    fignum=figuur.number,\n",
    ")\n",
    "plt.xticks(\n",
    "    range(df.select_dtypes([\"number\"]).shape[1]),\n",
    "    df.select_dtypes([\"number\"]).columns,\n",
    "    fontsize=14,\n",
    "    rotation=90,\n",
    ")\n",
    "plt.yticks(\n",
    "    range(df.select_dtypes([\"number\"]).shape[1]),\n",
    "    df.select_dtypes([\"number\"]).columns,\n",
    "    fontsize=14,\n",
    ")\n",
    "\n",
    "# Zet de legenda naast het plot, en geef het plot een titel\n",
    "cb = plt.colorbar()\n",
    "cb.ax.tick_params(labelsize=14)\n",
    "plt.title(\"Correlation Matrix\", fontsize=18)\n",
    "plt.show()"
   ]
  },
  {
   "cell_type": "markdown",
   "id": "c5f4f7ac",
   "metadata": {},
   "source": [
    "## Data analyse\n",
    "\n",
    "In Python zijn kan je gemakkelijke veel grafieken maken. Hieronder is een voorbeeld te zien met hoeveel de verschillende continenten bijdroegen aan de totale CO2 uistoot over de jaren heen."
   ]
  },
  {
   "cell_type": "code",
   "execution_count": null,
   "id": "23744c7f",
   "metadata": {},
   "outputs": [],
   "source": [
    "# In did code blok maken we een grafiek dat de bijdrage van verschillende continenten aan de totale CO2\n",
    "# uitstoot laat zien over de jaren heen.\n",
    "\n",
    "# Groepeer de rijen van de tabel op basis van \"year\" en \"continent\"\n",
    "groep_jaar_continent = (\n",
    "    df.groupby([\"year\", \"continent\"])[\"total_emission\"].sum().unstack(fill_value=0)\n",
    ")\n",
    "\n",
    "# Om de stapel volgorde in de grafiek wat mooier te maken sorteren we op de \n",
    "# waardes van het laatste jaar. Zo zal de grootste uitstooter boven staan.\n",
    "sorted_subregions = groep_jaar_continent.iloc[-1].sort_values().index.tolist()\n",
    "grouped_year_sorted = groep_jaar_continent[sorted_subregions]\n",
    "\n",
    "# Plot de grafiek.\n",
    "fig, ax = plt.subplots(figsize=(20, 10))\n",
    "ax.stackplot(\n",
    "    grouped_year_sorted.index,\n",
    "    grouped_year_sorted.T.values,\n",
    "    labels=grouped_year_sorted.columns,\n",
    ")\n",
    "\n",
    "# Voeg een titel, assen titels en een legenda toe aan de grafiek.\n",
    "plt.title(\"Totale emissies over de jaren per continent\")\n",
    "plt.xlabel(\"Jaar\")\n",
    "plt.ylabel(\"Totale Emissies\")\n",
    "plt.legend(title=\"Subregion\", bbox_to_anchor=(1.05, 1), loc=\"upper left\")\n",
    "plt.grid(True)\n",
    "plt.show()"
   ]
  },
  {
   "cell_type": "markdown",
   "id": "1c9e452e",
   "metadata": {},
   "source": [
    "Van hier verder gaan we alleen nog met data van Europa werken.\n",
    "\n",
    "**Opdracht 4**: Maak een tabel aan met alleen de gegevens van Europa er in en sla deze op in de `df_europe` variabele. Als je dit hebt gedaan, doe dan ook even checken of het gelukt is ;)"
   ]
  },
  {
   "cell_type": "code",
   "execution_count": null,
   "id": "d6fb0949",
   "metadata": {},
   "outputs": [],
   "source": [
    "df_europe = df[df[\"continent\"] == \"Europe\"]\n",
    "assert df_europe[\"continent\"].nunique() == 1"
   ]
  },
  {
   "cell_type": "code",
   "execution_count": null,
   "id": "1a01786c",
   "metadata": {},
   "outputs": [],
   "source": [
    "pp = sns.jointplot(data=df_europe, x=\"food_household_consumption\", y=\"agrifood_systems_waste_disposal\", hue=\"subregion\")"
   ]
  },
  {
   "cell_type": "markdown",
   "id": "d128a9bb",
   "metadata": {},
   "source": [
    "Nu Jullie wat voorbeelden hebben gezien van wat je allemaal kan mogen jullie zelf aan de slag.\n",
    "\n",
    "**Opdracht 5**: bezoek de [Matplotlib site](https://matplotlib.org/stable/plot_types/index.html) en maak zelf een plot van de data, zie je nog ergens interresante relaties."
   ]
  }
 ],
 "metadata": {
  "kernelspec": {
   "display_name": "venv (3.12.4)",
   "language": "python",
   "name": "python3"
  },
  "language_info": {
   "codemirror_mode": {
    "name": "ipython",
    "version": 3
   },
   "file_extension": ".py",
   "mimetype": "text/x-python",
   "name": "python",
   "nbconvert_exporter": "python",
   "pygments_lexer": "ipython3",
   "version": "3.12.4"
  }
 },
 "nbformat": 4,
 "nbformat_minor": 5
}
